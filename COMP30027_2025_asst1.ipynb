{
 "cells": [
  {
   "cell_type": "markdown",
   "metadata": {},
   "source": [
    "##### ### The University of Melbourne, School of Computing and Information Systems\n",
    "# COMP30027 Machine Learning, 2025 Semester 1\n",
    "\n",
    "## Assignment 1: Scam detection with Naive Bayes\n"
   ]
  },
  {
   "cell_type": "markdown",
   "metadata": {},
   "source": [
    "**Student ID(s):**     1462539\n"
   ]
  },
  {
   "cell_type": "markdown",
   "metadata": {},
   "source": [
    "## 0. Set-up"
   ]
  },
  {
   "cell_type": "markdown",
   "metadata": {},
   "source": [
    "Let us load data from `sms_supervised_train.csv`"
   ]
  },
  {
   "cell_type": "code",
   "execution_count": 4,
   "metadata": {},
   "outputs": [],
   "source": [
    "import pandas as pd\n",
    "import numpy as np\n",
    "from sklearn.feature_extraction.text import CountVectorizer\n",
    "from typing import List, Set, Dict\n",
    "\n",
    "# Load data\n",
    "labeled_train = pd.read_csv('data/sms_supervised_train.csv')"
   ]
  },
  {
   "cell_type": "markdown",
   "metadata": {},
   "source": [
    "Now that we loaded our data, let us delete rows where `textPreprocessed` is empty by calling `data.dropna`. These instances do not have any features we can learn from. We can then tokenise (split) the already preprossessd text for our next stage."
   ]
  },
  {
   "cell_type": "code",
   "execution_count": 5,
   "metadata": {},
   "outputs": [],
   "source": [
    "# Split text into tokens\n",
    "labeled_train.dropna(subset=['textPreprocessed'], inplace=True)\n",
    "labeled_train['tokens'] = labeled_train['textPreprocessed'].apply(lambda x: x.split())"
   ]
  },
  {
   "cell_type": "markdown",
   "metadata": {},
   "source": [
    "Let us define the **vocabulary**, which is a list of every word which occurs in the training data set"
   ]
  },
  {
   "cell_type": "code",
   "execution_count": 6,
   "metadata": {},
   "outputs": [],
   "source": [
    "vocabulary = set()\n",
    "for tokens in labeled_train['tokens']:\n",
    "    vocabulary.update(tokens)\n",
    "vocabulary = list(vocabulary)"
   ]
  },
  {
   "cell_type": "markdown",
   "metadata": {},
   "source": [
    "Define **count** matrix (Bag-of-Words feature matrix). Since the dataset is already preprocessed, I'm directly supplying `vocabulary=vocabulary` to `CountVectorizer` without calling `fit()`, to avoid any unintended token filtering."
   ]
  },
  {
   "cell_type": "code",
   "execution_count": 14,
   "metadata": {},
   "outputs": [],
   "source": [
    "vectorizer: CountVectorizer = CountVectorizer(vocabulary=vocabulary)\n",
    "X: np.ndarray = vectorizer.transform(labeled_train['textPreprocessed'])\n",
    "y = labeled_train['class'].values"
   ]
  },
  {
   "cell_type": "markdown",
   "metadata": {},
   "source": [
    "## 1. Supervised model training\n"
   ]
  },
  {
   "cell_type": "markdown",
   "metadata": {},
   "source": [
    "We now computer the prior probability of each class $P(C)$. It returns a dictionary of class label with prior probabilities $C: P(C)$."
   ]
  },
  {
   "cell_type": "code",
   "execution_count": 8,
   "metadata": {},
   "outputs": [],
   "source": [
    "def calc_prior(data: pd.DataFrame, label_col: str = 'class') -> Dict[int, float]:\n",
    "    class_counts = data[label_col].value_counts()\n",
    "    total = class_counts.sum()\n",
    "    return (class_counts / total).to_dict()"
   ]
  },
  {
   "cell_type": "markdown",
   "metadata": {},
   "source": [
    "The next set of probabilities we need to calculate are the conditional probabilities. We need to know the likelihood of each feature value given a specific label."
   ]
  },
  {
   "cell_type": "markdown",
   "metadata": {},
   "source": [
    "message1: [1, 0, 2]   → \"hello now now\"\n",
    "\n",
    "message2: [0, 1, 1]   → \"win now\"\n",
    "\n",
    "[1 + 0, 0 + 1, 2 + 1] = [1, 1, 3]\n",
    "\n",
    "then we can computer [1 + 0, 0 + 1, 2 + 1] = [1, 1, 3]\n",
    "\n",
    "where each `word_counts[i]` is exactly $count_{c,i}$ where\n",
    "\n",
    "$$\n",
    "p_{c,i} = \\frac{count_{c,i} + \\alpha}{total_c + V \\alpha}\n",
    "$$\n",
    "\n",
    "\n"
   ]
  },
  {
   "cell_type": "code",
   "execution_count": 9,
   "metadata": {},
   "outputs": [],
   "source": [
    "def calc_likelihood(X: np.ndarray, y: np.ndarray, alpha: float = 1.0) -> Dict[int, np.ndarray]:\n",
    "    classes = np.unique(y)\n",
    "    vocab_size = X.shape[1]\n",
    "    likelihoods = {}\n",
    "\n",
    "    for c in classes:\n",
    "        X_c = X[np.where(y == c)[0]]\n",
    "        word_counts = X_c.sum(axis=0)\n",
    "        word_counts = np.asarray(word_counts).flatten()\n",
    "        total_count = word_counts.sum()\n",
    "        likelihoods[c] = (word_counts + alpha) / (total_count + alpha * vocab_size)\n",
    "\n",
    "    return likelihoods"
   ]
  },
  {
   "cell_type": "markdown",
   "metadata": {},
   "source": [
    "We are ready to train our dataset, but before that, let us create function to out most probable words in each class and also "
   ]
  },
  {
   "cell_type": "code",
   "execution_count": 10,
   "metadata": {},
   "outputs": [],
   "source": [
    "def get_top_words(likelihood, vocab, class_label, top_n=10):\n",
    "    indices = np.argsort(-likelihood[class_label])[:top_n]\n",
    "    return [(vocab[i], likelihood[class_label][i]) for i in indices]"
   ]
  },
  {
   "cell_type": "code",
   "execution_count": 11,
   "metadata": {},
   "outputs": [],
   "source": [
    "def get_predictive_words(likelihoods, vocab, top_n=10):\n",
    "    ratio_1_over_0 = likelihoods[1] / likelihoods[0]\n",
    "    ratio_0_over_1 = likelihoods[0] / likelihoods[1]\n",
    "    top_1_indices = np.argsort(-ratio_1_over_0)[:top_n]\n",
    "    top_0_indices = np.argsort(-ratio_0_over_1)[:top_n]\n",
    "    top_scams = [(vocab[i], ratio_1_over_0[i]) for i in top_1_indices]\n",
    "    top_nonmal = [(vocab[i], ratio_0_over_1[i]) for i in top_0_indices]\n",
    "    return top_scams, top_nonmal"
   ]
  },
  {
   "cell_type": "code",
   "execution_count": 16,
   "metadata": {},
   "outputs": [
    {
     "name": "stdout",
     "output_type": "stream",
     "text": [
      "Prior probabilities:\n",
      "Class 0 (non-malicious): 0.7995\n",
      "Class 1 (scam): 0.2005\n",
      "\n",
      "Top 10 most probable words in non-malicious class:\n",
      "go: 0.0161\n",
      "get: 0.0143\n",
      "gt: 0.0085\n",
      "lt: 0.0084\n",
      "call: 0.0083\n",
      "ok: 0.0078\n",
      "come: 0.0075\n",
      "ur: 0.0075\n",
      "know: 0.0075\n",
      "good: 0.0071\n",
      "\n",
      "Top 10 most probable words in scam class:\n",
      "call: 0.0274\n",
      "free: 0.0137\n",
      "claim: 0.0100\n",
      "customer: 0.0092\n",
      "txt: 0.0090\n",
      "ur: 0.0085\n",
      "text: 0.0082\n",
      "stop: 0.0082\n",
      "reply: 0.0080\n",
      "mobile: 0.0078\n",
      "\n",
      "Top 10 most predictive words for scam class (P(w|1) / P(w|0)):\n",
      "prize: 88.80\n",
      "tone: 57.46\n",
      "select: 41.79\n",
      "claim: 41.21\n",
      "50: 34.82\n",
      "paytm: 33.08\n",
      "code: 31.34\n",
      "award: 28.73\n",
      "won: 27.86\n",
      "18: 26.12\n",
      "\n",
      "Top 10 most predictive words for non-malicious class (P(w|0) / P(w|1)):\n",
      "gt: 60.30\n",
      "lt: 59.73\n",
      "lor: 32.16\n",
      "hope: 27.57\n",
      "ok: 27.57\n",
      "da: 22.40\n",
      "let: 20.10\n",
      "wat: 19.53\n",
      "oh: 18.38\n",
      "lol: 17.80\n"
     ]
    }
   ],
   "source": [
    "priors = calc_prior(labeled_train)\n",
    "likelihoods = calc_likelihood(X, y)\n",
    "\n",
    "\n",
    "top_words_0 = get_top_words(likelihoods, vocabulary, 0)\n",
    "top_words_1 = get_top_words(likelihoods, vocabulary, 1)\n",
    "\n",
    "top_predictive_1, top_predictive_0 = get_predictive_words(likelihoods, vocabulary)\n",
    "\n",
    "# --- Print results ---\n",
    "print(\"Prior probabilities:\")\n",
    "for c, p in priors.items():\n",
    "    print(f\"Class {c} ({'scam' if c==1 else 'non-malicious'}): {p:.4f}\")\n",
    "\n",
    "print(\"\\nTop 10 most probable words in non-malicious class:\")\n",
    "for word, prob in top_words_0:\n",
    "    print(f\"{word}: {prob:.4f}\")\n",
    "\n",
    "print(\"\\nTop 10 most probable words in scam class:\")\n",
    "for word, prob in top_words_1:\n",
    "    print(f\"{word}: {prob:.4f}\")\n",
    "\n",
    "print(\"\\nTop 10 most predictive words for scam class (P(w|1) / P(w|0)):\")\n",
    "for word, ratio in top_predictive_1:\n",
    "    print(f\"{word}: {ratio:.2f}\")\n",
    "\n",
    "print(\"\\nTop 10 most predictive words for non-malicious class (P(w|0) / P(w|1)):\")\n",
    "for word, ratio in top_predictive_0:\n",
    "    print(f\"{word}: {ratio:.2f}\")\n"
   ]
  },
  {
   "cell_type": "markdown",
   "metadata": {},
   "source": [
    "$$P(c | count) \\propto P(c)P(count|c)$$"
   ]
  },
  {
   "cell_type": "code",
   "execution_count": null,
   "metadata": {},
   "outputs": [],
   "source": [
    "def calc_prior(data: pd.DataFrame, label_col: str = 'class') -> pd.Series:\n",
    "    \"\"\"Calculate P(class) for each class\"\"\"\n",
    "    class_counts = data[label_col].value_counts()\n",
    "    return class_counts / class_counts.sum()\n",
    "\n",
    "\n",
    "def calc_likelihood(X: np.ndarray, y: np.ndarray, alpha: float = 1.0) -> Dict[int, np.ndarray]:\n",
    "    \"\"\"Calculate P(word|class) with Laplace smoothing\"\"\"\n",
    "    classes = np.unique(y)\n",
    "    vocab_size = X.shape[1]\n",
    "    likelihoods = {}\n",
    "\n",
    "    for c in classes:\n",
    "        X_c = X[np.where(y == c)[0]]\n",
    "        word_counts = X_c.sum(axis=0)\n",
    "        word_counts = np.asarray(word_counts).flatten()\n",
    "        total_count = word_counts.sum()\n",
    "        likelihoods[c] = (word_counts + alpha) / (total_count + alpha * vocab_size)\n",
    "\n",
    "    return likelihoods\n",
    "\n",
    "\n",
    "def calc_posterior(counts: np.ndarray, priors: Dict[int, float], likelihoods: Dict[int, np.ndarray]) -> Dict[int, float]:\n",
    "    \"\"\"Calculate log-posterior score for each class\"\"\"\n",
    "    scores = {}\n",
    "    for c in priors:\n",
    "        log_prior = np.log(priors[c])\n",
    "        log_likelihood = np.log(likelihoods[c])\n",
    "        scores[c] = log_prior + np.dot(counts, log_likelihood)\n",
    "    return scores\n",
    "\n",
    "\n",
    "def predict_NB(text: str, priors: Dict[int, float], likelihoods: Dict[int, np.ndarray], vectorizer: CountVectorizer) -> int:\n",
    "    \"\"\"Predict class for one message using trained NB model\"\"\"\n",
    "    counts = vectorizer.transform([text]).toarray().flatten()\n",
    "    scores = calc_posterior(counts, priors, likelihoods)\n",
    "    return max(scores, key=scores.get)\n",
    "\n",
    "\n",
    "def train_NB(data: pd.DataFrame, text_col: str = 'textPreprocessed', label_col: str = 'class', alpha: float = 1.0):\n",
    "    \"\"\"\n",
    "    Trains a multinomial NB model on preprocessed SMS data.\n",
    "    Returns: (priors, likelihoods, fitted_vectorizer)\n",
    "    \"\"\"\n",
    "    data = data.dropna(subset=[text_col])\n",
    "    vectorizer = CountVectorizer()\n",
    "    X = vectorizer.fit_transform(data[text_col])\n",
    "    y = data[label_col].values\n",
    "    priors = calc_prior(data, label_col)\n",
    "    likelihoods = calc_likelihood(X, y, alpha)\n",
    "    return priors, likelihoods, vectorizer\n"
   ]
  },
  {
   "cell_type": "markdown",
   "metadata": {},
   "source": [
    "## 2. Supervised model evaluation"
   ]
  },
  {
   "cell_type": "code",
   "execution_count": null,
   "metadata": {
    "collapsed": true
   },
   "outputs": [],
   "source": []
  },
  {
   "cell_type": "markdown",
   "metadata": {},
   "source": [
    "## 3. Extending the model with semi-supervised training"
   ]
  },
  {
   "cell_type": "code",
   "execution_count": null,
   "metadata": {},
   "outputs": [],
   "source": []
  },
  {
   "cell_type": "markdown",
   "metadata": {},
   "source": [
    "## 4. Supervised model evaluation"
   ]
  },
  {
   "cell_type": "code",
   "execution_count": null,
   "metadata": {
    "collapsed": true
   },
   "outputs": [],
   "source": []
  }
 ],
 "metadata": {
  "kernelspec": {
   "display_name": "Python (myenv)",
   "language": "python",
   "name": "myenv"
  },
  "language_info": {
   "codemirror_mode": {
    "name": "ipython",
    "version": 3
   },
   "file_extension": ".py",
   "mimetype": "text/x-python",
   "name": "python",
   "nbconvert_exporter": "python",
   "pygments_lexer": "ipython3",
   "version": "3.13.2"
  }
 },
 "nbformat": 4,
 "nbformat_minor": 4
}
