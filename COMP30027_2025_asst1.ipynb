{
 "cells": [
  {
   "cell_type": "markdown",
   "metadata": {},
   "source": [
    "##### ### The University of Melbourne, School of Computing and Information Systems\n",
    "# COMP30027 Machine Learning, 2025 Semester 1\n",
    "\n",
    "## Assignment 1: Scam detection with Naive Bayes\n"
   ]
  },
  {
   "cell_type": "markdown",
   "metadata": {},
   "source": [
    "**Student ID(s):**     1462539\n"
   ]
  },
  {
   "cell_type": "markdown",
   "metadata": {},
   "source": [
    "## 0. Set-up"
   ]
  },
  {
   "cell_type": "markdown",
   "metadata": {},
   "source": [
    "First, we import all the necessary libraries and load the labeled training data from `sms_supervised_train.csv`."
   ]
  },
  {
   "cell_type": "code",
   "execution_count": 257,
   "metadata": {},
   "outputs": [],
   "source": [
    "import numpy as np\n",
    "import pandas as pd\n",
    "import seaborn as sns\n",
    "import matplotlib.pyplot as plt\n",
    "from sklearn.feature_extraction.text import CountVectorizer\n",
    "from sklearn.metrics import accuracy_score, precision_score, recall_score, f1_score, confusion_matrix\n",
    "from typing import List, Set, Dict, Tuple\n",
    "\n",
    "labelled_train = pd.read_csv('data/sms_supervised_train.csv')"
   ]
  },
  {
   "cell_type": "markdown",
   "metadata": {},
   "source": [
    "Now that we have loaded our training dataset, let us delete rows where `textPreprocessed` is empty by calling `data.dropna`. These instances do not have any meaningful features we can learn from. After cleaning, we can then tokenise (split) the already preprossessd text for our next stage."
   ]
  },
  {
   "cell_type": "code",
   "execution_count": 258,
   "metadata": {},
   "outputs": [],
   "source": [
    "labelled_train.dropna(subset=['textPreprocessed'], inplace=True)\n",
    "labelled_train['tokens'] = labelled_train['textPreprocessed'].apply(lambda x: x.split())"
   ]
  },
  {
   "cell_type": "markdown",
   "metadata": {},
   "source": [
    "Let us define the **vocabulary**, which is a set of every word which occurs in the training data set"
   ]
  },
  {
   "cell_type": "code",
   "execution_count": 259,
   "metadata": {},
   "outputs": [],
   "source": [
    "vocabulary = set()\n",
    "for tokens in labelled_train['tokens']:\n",
    "    vocabulary.update(tokens)\n",
    "vocab_list = list(vocabulary)"
   ]
  },
  {
   "cell_type": "markdown",
   "metadata": {},
   "source": [
    "Define **count** matrix (Bag-of-Words feature matrix). Since the dataset is already preprocessed, I am directly supplying `vocabulary` to `CountVectorizer` without calling `fit()`, to avoid any unintended token filtering. Note that we are going to follow the convention where $X$ represents the input features and $y$ represents the target labels; this notation is used consistently throughout the notebook."
   ]
  },
  {
   "cell_type": "code",
   "execution_count": 260,
   "metadata": {},
   "outputs": [],
   "source": [
    "vectorizer: CountVectorizer = CountVectorizer(vocabulary=vocab_list)\n",
    "X: np.ndarray = vectorizer.transform(labelled_train['textPreprocessed'])\n",
    "y: np.ndarray = labelled_train['class'].values"
   ]
  },
  {
   "cell_type": "markdown",
   "metadata": {},
   "source": [
    "## 1. Supervised model training\n"
   ]
  },
  {
   "cell_type": "markdown",
   "metadata": {},
   "source": [
    "### 1.1 Prior Probabilities"
   ]
  },
  {
   "cell_type": "markdown",
   "metadata": {},
   "source": [
    "We are now ready to compute the prior probability of each class, $P(C)$. The result is returned as a dictionary mapping each class label to its corresponding prior probability: ${C : P(C)}$."
   ]
  },
  {
   "cell_type": "code",
   "execution_count": 261,
   "metadata": {},
   "outputs": [
    {
     "name": "stdout",
     "output_type": "stream",
     "text": [
      "{0: 0.7994987468671679, 1: 0.20050125313283207}\n"
     ]
    }
   ],
   "source": [
    "def calc_prior(data: pd.DataFrame, label_col: str = 'class') -> Dict[int, float]:\n",
    "    class_counts = data[label_col].value_counts()\n",
    "    total = class_counts.sum()\n",
    "    return (class_counts / total).to_dict()\n",
    "\n",
    "priors = calc_prior(labelled_train)\n",
    "\n",
    "print(priors)"
   ]
  },
  {
   "cell_type": "markdown",
   "metadata": {},
   "source": [
    "### 1.2 Most Probable Words"
   ]
  },
  {
   "cell_type": "markdown",
   "metadata": {},
   "source": [
    "The next set of probabilities we need to calculate are the conditional probabilities, which represent the likelihood of each feature value given a specific class label. Recall that our \"count\" matrix encodes how many times each word appears in a message. For example:\n",
    "\n",
    "```\n",
    "message1: [1, 0, 2] → \"call now now\"\n",
    "message2: [0, 1, 1] → \"win now\"\n",
    "```\n",
    "\n",
    "To compute the **total word counts per class**, we sum the corresponding vectors:\n",
    "\n",
    "```\n",
    "[1 + 0, 0 + 1, 2 + 1] = [1, 1, 3]\n",
    "```\n",
    "\n",
    "Each entry in this resulting vector, `word_counts[i]`, corresponds to exactly $\\text{count}_{c,i}$. where\n",
    "\n",
    "$$\n",
    "P(w_i \\mid c) = \\frac{\\text{count}_{c,i} + \\alpha}{\\text{total}_c + V \\alpha}.\n",
    "$$"
   ]
  },
  {
   "cell_type": "code",
   "execution_count": 262,
   "metadata": {},
   "outputs": [],
   "source": [
    "def calc_likelihood(X: np.ndarray, y: np.ndarray, alpha: float = 1.0) -> Dict[int, np.ndarray]:\n",
    "    classes = np.unique(y)\n",
    "    vocab_size = X.shape[1]\n",
    "    likelihoods = {}\n",
    "\n",
    "    for c in classes:\n",
    "        X_c = X[y == c]                                 # rows for class c (y == c) is a mask\n",
    "        word_counts = X_c.sum(axis=0)                   # sum over rows → word frequency vector\n",
    "        word_counts = np.asarray(word_counts).flatten() # convert to 1D array\n",
    "        total_count = word_counts.sum()\n",
    "        likelihoods[c] = (word_counts + alpha) / (total_count + alpha * vocab_size)\n",
    "\n",
    "    return likelihoods\n",
    "\n",
    "likelihoods = calc_likelihood(X, y)"
   ]
  },
  {
   "cell_type": "markdown",
   "metadata": {},
   "source": [
    "Let us now identify the most probable words in each class. Class $0$ represents non-malicious messages, while Class $1$ corresponds to scam messages."
   ]
  },
  {
   "cell_type": "code",
   "execution_count": 263,
   "metadata": {},
   "outputs": [
    {
     "name": "stdout",
     "output_type": "stream",
     "text": [
      "Top 10 most probable words in non-malicious class:\n",
      "go: 0.0161\n",
      "get: 0.0143\n",
      "gt: 0.0085\n",
      "lt: 0.0084\n",
      "call: 0.0083\n",
      "ok: 0.0078\n",
      "come: 0.0075\n",
      "ur: 0.0075\n",
      "know: 0.0075\n",
      "good: 0.0071\n",
      "\n",
      "Top 10 most probable words in scam class:\n",
      "call: 0.0274\n",
      "free: 0.0137\n",
      "claim: 0.0100\n",
      "customer: 0.0092\n",
      "txt: 0.0090\n",
      "ur: 0.0085\n",
      "text: 0.0082\n",
      "stop: 0.0082\n",
      "reply: 0.0080\n",
      "mobile: 0.0078\n"
     ]
    }
   ],
   "source": [
    "def get_top_words(likelihood, vocab, class_label, top_n=10):\n",
    "    indices = np.argsort(-likelihood[class_label])[:top_n] # - for descending order\n",
    "    return [(vocab[i], likelihood[class_label][i]) for i in indices]\n",
    "\n",
    "top_words_0 = get_top_words(likelihoods, vocab_list, 0)\n",
    "top_words_1 = get_top_words(likelihoods, vocab_list, 1)\n",
    "\n",
    "print(\"Top 10 most probable words in non-malicious class:\")\n",
    "for word, prob in top_words_0:\n",
    "    print(f\"{word}: {prob:.4f}\")\n",
    "\n",
    "print(\"\\nTop 10 most probable words in scam class:\")\n",
    "for word, prob in top_words_1:\n",
    "    print(f\"{word}: {prob:.4f}\")"
   ]
  },
  {
   "cell_type": "markdown",
   "metadata": {},
   "source": [
    "### 1.3 Most Predictive Words"
   ]
  },
  {
   "cell_type": "markdown",
   "metadata": {},
   "source": [
    "Let us now get words that are most strongly predictive of each class. We can do this by computing the likelihood ratio,\n",
    "\n",
    "$$\n",
    "\\text{Predictiveness} = \\frac{P(w \\mid \\text{scam})}{P(w \\mid \\text{non-malicious})}.\n",
    "$$\n",
    "\n",
    "The ratio tells us **which words appear much more often in one class than the other**."
   ]
  },
  {
   "cell_type": "code",
   "execution_count": 264,
   "metadata": {},
   "outputs": [
    {
     "name": "stdout",
     "output_type": "stream",
     "text": [
      "Top 10 most predictive words for scam class (P(w|1) / P(w|0)):\n",
      "prize: 88.80\n",
      "tone: 57.46\n",
      "select: 41.79\n",
      "claim: 41.21\n",
      "50: 34.82\n",
      "paytm: 33.08\n",
      "code: 31.34\n",
      "award: 28.73\n",
      "won: 27.86\n",
      "18: 26.12\n",
      "\n",
      "Top 10 most predictive words for non-malicious class (P(w|0) / P(w|1)):\n",
      "gt: 60.30\n",
      "lt: 59.73\n",
      "lor: 32.16\n",
      "hope: 27.57\n",
      "ok: 27.57\n",
      "da: 22.40\n",
      "let: 20.10\n",
      "wat: 19.53\n",
      "oh: 18.38\n",
      "lol: 17.80\n"
     ]
    }
   ],
   "source": [
    "def get_predictive_words(likelihoods, vocab, top_n=10):\n",
    "    ratio_1_over_0 = likelihoods[1] / likelihoods[0]\n",
    "    ratio_0_over_1 = likelihoods[0] / likelihoods[1]\n",
    "    top_1_indices = np.argsort(-ratio_1_over_0)[:top_n]\n",
    "    top_0_indices = np.argsort(-ratio_0_over_1)[:top_n]\n",
    "    top_scams = [(vocab[i], ratio_1_over_0[i]) for i in top_1_indices]\n",
    "    top_nonmal = [(vocab[i], ratio_0_over_1[i]) for i in top_0_indices]\n",
    "    return top_scams, top_nonmal\n",
    "\n",
    "top_predictive_1, top_predictive_0 = get_predictive_words(likelihoods, vocab_list)\n",
    "\n",
    "print(\"Top 10 most predictive words for scam class (P(w|1) / P(w|0)):\")\n",
    "for word, ratio in top_predictive_1:\n",
    "    print(f\"{word}: {ratio:.2f}\")\n",
    "\n",
    "print(\"\\nTop 10 most predictive words for non-malicious class (P(w|0) / P(w|1)):\")\n",
    "for word, ratio in top_predictive_0:\n",
    "    print(f\"{word}: {ratio:.2f}\")"
   ]
  },
  {
   "cell_type": "markdown",
   "metadata": {},
   "source": [
    "### 1.x Posterior Probabilities"
   ]
  },
  {
   "cell_type": "markdown",
   "metadata": {},
   "source": [
    "Given a message represented as a \"count\" vector $\\mathbf{x} = (x_1, x_2, \\dots, x_V)$, where $x_i$ is the number of times word $i$ appears and $V$ is the vocabulary size, the posterior probability of class $c$ is proportional to,\n",
    "\n",
    "\n",
    "$$\n",
    "P(c \\mid \\mathbf{x}) \\propto P(c) \\cdot \\prod_{i=1}^{V} P(w_i \\mid c)^{x_i},\n",
    "$$\n",
    "\n",
    "as given in the specification. However, to avoid running into underflow problems when multiplying very small probabilities, we are going to take log on both sides:\n",
    "\n",
    "$$\n",
    "\\log P(c \\mid \\mathbf{x}) \\propto \\log P(c) + \\sum_{i=1}^{V} x_i \\cdot \\log P(w_i \\mid c).\n",
    "$$"
   ]
  },
  {
   "cell_type": "code",
   "execution_count": 265,
   "metadata": {
    "collapsed": true
   },
   "outputs": [],
   "source": [
    "def calc_posterior(counts: np.ndarray, priors: Dict[int, float], likelihoods: Dict[int, np.ndarray]) -> Dict[int, float]:\n",
    "    scores = {}\n",
    "    for c in priors:\n",
    "        log_prior = np.log(priors[c])\n",
    "        log_likelihood = np.log(likelihoods[c])\n",
    "        scores[c] = log_prior + np.dot(counts, log_likelihood)\n",
    "    return scores\n",
    "\n",
    "# test_text = \"call for free burger!\"\n",
    "# test_counts = vectorizer.transform([test_text]).toarray()[0]\n",
    "# scores = calc_posterior(test_counts, priors, likelihoods)\n",
    "\n",
    "# prediction = max(scores, key=scores.get)\n",
    "# print(f\"Prediction for: '{test_text}' →\", \"scam\" if prediction == 1 else \"non-malicious\")"
   ]
  },
  {
   "cell_type": "markdown",
   "metadata": {},
   "source": [
    "## 2. Supervised model evaluation"
   ]
  },
  {
   "cell_type": "markdown",
   "metadata": {},
   "source": [
    "### 2.a Predicting Test Set"
   ]
  },
  {
   "cell_type": "markdown",
   "metadata": {},
   "source": [
    "Let us now move onto predicting label for our given test set. To assess the confidence of our prediction, we calculate the ratio of the posterior probabilities for each class. This ratio tells us how much more likely the message is to belong to the \"scam\" class compared to the \"non-malicious\" class.\n",
    "\n",
    "$$\n",
    "\\text{Confidence} = \\frac{P(\\text{scam} \\mid \\textbf{x})}{P(\\text{non-malicious} \\mid \\textbf{x})}\n",
    "$$"
   ]
  },
  {
   "cell_type": "code",
   "execution_count": 266,
   "metadata": {},
   "outputs": [],
   "source": [
    "def predict_batch(texts: List[str], priors: Dict[int, float], likelihoods: Dict[int, np.ndarray], \n",
    "                  vectorizer: CountVectorizer) -> Tuple[np.ndarray, np.ndarray]:\n",
    "    predictions: List[int] = []\n",
    "    confidence_ratios: List[float] = []\n",
    "\n",
    "    for text in texts:\n",
    "        # Transform the text into a count vector\n",
    "        counts: np.ndarray = vectorizer.transform([text]).toarray().flatten()\n",
    "        # Calculate posterior scores for each class\n",
    "        scores: Dict[int, float] = calc_posterior(counts, priors, likelihoods)\n",
    "        # Append the predicted class (class with the highest posterior score)\n",
    "        predictions.append(max(scores, key=scores.get))\n",
    "        # Append the confidence ratio (P(class 1) / P(class 0))\n",
    "        confidence_ratios.append(np.exp(scores[1] - scores[0]))\n",
    "\n",
    "    return np.array(predictions), np.array(confidence_ratios)"
   ]
  },
  {
   "cell_type": "code",
   "execution_count": 267,
   "metadata": {},
   "outputs": [],
   "source": [
    "test_df = pd.read_csv('data/sms_test.csv')\n",
    "test_df.dropna(subset=['textPreprocessed'], inplace=True)\n",
    "\n",
    "test_texts = test_df['textPreprocessed'].tolist()\n",
    "true_labels = test_df['class'].values\n",
    "predicted_labels, confidence_ratios = predict_batch(test_texts, priors, likelihoods, vectorizer)"
   ]
  },
  {
   "cell_type": "markdown",
   "metadata": {},
   "source": [
    "### 2.1 Model Performance Evaluation"
   ]
  },
  {
   "cell_type": "markdown",
   "metadata": {},
   "source": [
    "I will use the `sklearn` library to evaluate the performance of my Naive Bayes model."
   ]
  },
  {
   "cell_type": "code",
   "execution_count": 278,
   "metadata": {},
   "outputs": [],
   "source": [
    "def eval_model(y_true: np.ndarray, y_pred: np.ndarray) -> Dict[str, float]:\n",
    "    return {\n",
    "        \"Accuracy\": accuracy_score(y_true, y_pred),\n",
    "        \"Precision\": precision_score(y_true, y_pred),\n",
    "        \"Recall\": recall_score(y_true, y_pred),\n",
    "        \"F1 Score\": f1_score(y_true, y_pred),\n",
    "        \"Error Rate\": 1 - accuracy_score(y_true, y_pred),\n",
    "    }\n",
    "\n",
    "def print_eval(eval: Dict[str, float]) -> None:\n",
    "    for metric, value in eval.items():\n",
    "        print(f\"{metric}: {value:.4f}\")\n",
    "\n",
    "def plot_confusion_matrix(y_true: np.ndarray, y_pred: np.ndarray) -> None:\n",
    "    plt.figure(figsize=(5, 4.5))\n",
    "    cm = confusion_matrix(y_true, y_pred, labels=[1, 0])  # Flip: scam (1) comes first\n",
    "    sns.heatmap(cm, annot=True, fmt='d', cmap='Blues', \n",
    "                xticklabels=['Scam', 'Non-malicious'], \n",
    "                yticklabels=['Scam', 'Non-malicious'])\n",
    "    plt.xlabel('Predicted Label')\n",
    "    plt.ylabel('True Label')\n",
    "    plt.tight_layout()\n",
    "    #plt.savefig(\"base.svg\", format=\"svg\")\n",
    "    plt.show()"
   ]
  },
  {
   "cell_type": "code",
   "execution_count": 279,
   "metadata": {},
   "outputs": [
    {
     "name": "stdout",
     "output_type": "stream",
     "text": [
      "Accuracy: 0.9700\n",
      "Precision: 0.9381\n",
      "Recall: 0.9100\n",
      "F1 Score: 0.9239\n",
      "Error Rate: 0.0300\n"
     ]
    },
    {
     "data": {
      "image/png": "[encoded data removed]",
      "text/plain": [
       "<Figure size 500x450 with 2 Axes>"
      ]
     },
     "metadata": {},
     "output_type": "display_data"
    }
   ],
   "source": [
    "eval_results = eval_model(true_labels, predicted_labels)\n",
    "print_eval(eval_results)\n",
    "plot_confusion_matrix(true_labels, predicted_labels)"
   ]
  },
  {
   "cell_type": "markdown",
   "metadata": {},
   "source": [
    "### 2.2 Out-of-Vocabulary (OOV) Words"
   ]
  },
  {
   "cell_type": "markdown",
   "metadata": {},
   "source": [
    "Note that I have already removed test instances that are already empty, and those are not counted in skipped messages."
   ]
  },
  {
   "cell_type": "code",
   "execution_count": 297,
   "metadata": {},
   "outputs": [
    {
     "name": "stdout",
     "output_type": "stream",
     "text": [
      "OOV Words: 179\n",
      "Total Words: 10968\n",
      "Percentage of OOV Words: 1.6320%\n",
      "Skipped Messages (no tokens in vocab): 0\n"
     ]
    }
   ],
   "source": [
    "oov_words = 0\n",
    "total_words = 0\n",
    "skipped_messages = 0\n",
    "\n",
    "for text in test_texts:\n",
    "    tokens = text.split()\n",
    "    total_words += len(tokens)\n",
    "    tokens_in_vocab = [token for token in tokens if token in vocabulary]\n",
    "    if not tokens_in_vocab:\n",
    "        skipped_messages += 1\n",
    "    oov_words += len(tokens) - len(tokens_in_vocab)\n",
    "\n",
    "print(f\"OOV Words: {oov_words}\")\n",
    "print(f\"Total Words: {total_words}\")\n",
    "print(f\"Percentage of OOV Words: {(oov_words / total_words)*100:.4f}%\")\n",
    "print(f\"Skipped Messages (no tokens in vocab): {skipped_messages}\")"
   ]
  },
  {
   "cell_type": "markdown",
   "metadata": {},
   "source": [
    "### 2.3 Examples of High and Low Confidence"
   ]
  },
  {
   "cell_type": "code",
   "execution_count": 303,
   "metadata": {},
   "outputs": [
    {
     "name": "stdout",
     "output_type": "stream",
     "text": [
      "\n",
      "--- High Confidence Scam Predictions ---\n",
      "                                          textOriginal  \\\n",
      "555  Todays Vodafone numbers ending 5347 are select...   \n",
      "349  Todays Vodafone numbers ending 3156 are select...   \n",
      "44   Todays Voda numbers ending 5226 are selected t...   \n",
      "\n",
      "                                      textPreprocessed  confidence_ratio  \n",
      "555  . please call award apply end rs. vodafone tod...      1.866963e+17  \n",
      "349  . please call award apply end rs. vodafone tod...      1.400222e+17  \n",
      "44   ? . please call award end 350 todays voda numb...      1.069614e+17  \n",
      "\n",
      "--- High Confidence Non-Malicious Predictions ---\n",
      "                                          textOriginal  \\\n",
      "341  NEFT Transaction with reference number  &lt;#&...   \n",
      "16   no, i *didn't* mean to post it. I wrote it, an...   \n",
      "659  U wake up already? Wat u doing? U picking us u...   \n",
      "\n",
      "                                      textPreprocessed  confidence_ratio  \n",
      "341  time : rs. transaction number & & & & & & & & ...      1.182758e-17  \n",
      "16   ? ? . . . . . . .. .. , , , , , , , , send get...      2.340719e-16  \n",
      "659  ? ? ? . . 7 8 up up u u u u , pick like late a...      7.952497e-14  \n",
      "\n",
      "--- Boundary Cases (Confidence Ratio ≈ 1) ---\n",
      "                                          textOriginal  \\\n",
      "767  I've told him that i've returned it. That shou...   \n",
      "455                            Glad to see your reply.   \n",
      "626  ALRITE SAM ITS NIC JUST CHECKIN THAT THIS IS U...   \n",
      "\n",
      "             textPreprocessed  confidence_ratio  \n",
      "767  . . tell return re order          0.997998  \n",
      "455              . reply glad          1.083516  \n",
      "626    ? ur * just alrite sam          0.903027  \n"
     ]
    }
   ],
   "source": [
    "test_df['prediction'] = predicted_labels\n",
    "test_df['confidence_ratio'] = confidence_ratios\n",
    "test_df['distance_to_boundary'] = abs(test_df['confidence_ratio'] - 1)\n",
    "\n",
    "print(\"\\n--- High Confidence Scam Predictions ---\")\n",
    "high_conf_scam = test_df[test_df['prediction'] == 1].sort_values(by='confidence_ratio', ascending=False).head(3)\n",
    "print(high_conf_scam[['textOriginal', 'textPreprocessed', 'confidence_ratio']])\n",
    "\n",
    "print(\"\\n--- High Confidence Non-Malicious Predictions ---\")\n",
    "high_conf_nonmal = test_df[test_df['prediction'] == 0].sort_values(by='confidence_ratio', ascending=True).head(3)\n",
    "print(high_conf_nonmal[['textOriginal', 'textPreprocessed', 'confidence_ratio']])\n",
    "\n",
    "print(\"\\n--- Boundary Cases (Confidence Ratio ≈ 1) ---\")\n",
    "boundary = test_df.sort_values(by='distance_to_boundary', ascending=True).head(3)\n",
    "print(boundary[['textOriginal', 'textPreprocessed', 'confidence_ratio']])"
   ]
  },
  {
   "cell_type": "markdown",
   "metadata": {},
   "source": [
    "## 3. Extending the model with semi-supervised training (Option 2: Active Learning)"
   ]
  },
  {
   "cell_type": "code",
   "execution_count": 215,
   "metadata": {},
   "outputs": [],
   "source": [
    "unlabelled_train = pd.read_csv('data/sms_unlabelled.csv')\n",
    "unlabelled_train.dropna(subset=['textPreprocessed'], inplace=True)\n",
    "\n",
    "_, conf_unlabelled = predict_batch(unlabelled_train['textPreprocessed'].tolist(), priors, likelihoods, vectorizer)\n",
    "unlabelled_train['confidence_ratio'] = conf_unlabelled\n",
    "unlabelled_train['distance_to_boundary'] = np.abs(unlabelled_train['confidence_ratio'] - 1)\n"
   ]
  },
  {
   "cell_type": "code",
   "execution_count": 235,
   "metadata": {},
   "outputs": [],
   "source": [
    "# Strategy 1: random 200\n",
    "random_200 = unlabelled_train.sample(n=200, random_state=528)\n",
    "expanded_random = pd.concat([labelled_train, random_200], ignore_index=True)\n",
    "\n",
    "# Strategy 2: low-confidence 200\n",
    "lowconf_200 = unlabelled_train.nsmallest(200, 'distance_to_boundary')\n",
    "expanded_lowconf = pd.concat([labelled_train, lowconf_200], ignore_index=True)\n",
    "\n",
    "# Strategy 3: high-confidence 200\n",
    "highconf_200 = unlabelled_train.nlargest(200, 'distance_to_boundary')\n",
    "expanded_highconf = pd.concat([labelled_train, highconf_200], ignore_index=True)"
   ]
  },
  {
   "cell_type": "code",
   "execution_count": 240,
   "metadata": {},
   "outputs": [],
   "source": [
    "def train_and_predict(train_df: pd.DataFrame, test_df: pd.DataFrame, vectorizer: CountVectorizer):\n",
    "    X = vectorizer.transform(train_df['textPreprocessed'])\n",
    "    y = train_df['class'].values\n",
    "\n",
    "    priors = calc_prior(train_df)\n",
    "    likelihoods = calc_likelihood(X, y)\n",
    "\n",
    "    pred, conf = predict_batch(test_df['textPreprocessed'].tolist(), priors, likelihoods, vectorizer)\n",
    "    return likelihoods, pred, conf\n"
   ]
  },
  {
   "cell_type": "code",
   "execution_count": 241,
   "metadata": {},
   "outputs": [],
   "source": [
    "like_random, pred_random, conf_random = train_and_predict(expanded_random, test_df, vectorizer)\n",
    "like_lowconf, pred_lowconf, conf_lowconf = train_and_predict(expanded_lowconf, test_df, vectorizer)\n",
    "like_highconf, pred_highconf, conf_highconf = train_and_predict(expanded_highconf, test_df, vectorizer)"
   ]
  },
  {
   "cell_type": "markdown",
   "metadata": {},
   "source": [
    "## 4. Supervised model evaluation"
   ]
  },
  {
   "cell_type": "code",
   "execution_count": 242,
   "metadata": {},
   "outputs": [
    {
     "name": "stdout",
     "output_type": "stream",
     "text": [
      "\n",
      "--- Evaluation Metrics for Random 200 ---\n",
      "Accuracy: 0.9670\n",
      "Precision: 0.9282\n",
      "Recall: 0.9050\n",
      "F1 Score: 0.9165\n",
      "\n",
      "--- Evaluation Metrics for Low-Confidence 200 ---\n",
      "Accuracy: 0.9730\n",
      "Precision: 0.9529\n",
      "Recall: 0.9100\n",
      "F1 Score: 0.9309\n",
      "\n",
      "--- Evaluation Metrics for High-Confidence 200 ---\n",
      "Accuracy: 0.9650\n",
      "Precision: 0.9319\n",
      "Recall: 0.8900\n",
      "F1 Score: 0.9105\n",
      "\n",
      "--- Confusion Matrix for Random 200 ---\n"
     ]
    },
    {
     "data": {
      "image/png": "[encoded data removed]",
      "text/plain": [
       "<Figure size 500x450 with 2 Axes>"
      ]
     },
     "metadata": {},
     "output_type": "display_data"
    },
    {
     "name": "stdout",
     "output_type": "stream",
     "text": [
      "\n",
      "--- Confusion Matrix for Low-Confidence 200 ---\n"
     ]
    },
    {
     "data": {
      "image/png": "[encoded data removed]",
      "text/plain": [
       "<Figure size 500x450 with 2 Axes>"
      ]
     },
     "metadata": {},
     "output_type": "display_data"
    },
    {
     "name": "stdout",
     "output_type": "stream",
     "text": [
      "\n",
      "--- Confusion Matrix for High-Confidence 200 ---\n"
     ]
    },
    {
     "data": {
      "image/png": "[encoded data removed]",
      "text/plain": [
       "<Figure size 500x450 with 2 Axes>"
      ]
     },
     "metadata": {},
     "output_type": "display_data"
    }
   ],
   "source": [
    "metrics_random = eval_model(test_df['class'].values, pred_random)\n",
    "metrics_lowconf = eval_model(test_df['class'].values, pred_lowconf)\n",
    "metrics_highconf = eval_model(test_df['class'].values, pred_highconf)\n",
    "\n",
    "print(\"\\n--- Evaluation Metrics for Random 200 ---\")\n",
    "print_eval(metrics_random)\n",
    "print(\"\\n--- Evaluation Metrics for Low-Confidence 200 ---\")\n",
    "print_eval(metrics_lowconf)\n",
    "print(\"\\n--- Evaluation Metrics for High-Confidence 200 ---\")\n",
    "print_eval(metrics_highconf)\n",
    "print(\"\\n--- Confusion Matrix for Random 200 ---\")\n",
    "plot_confusion_matrix(test_df['class'].values, pred_random)\n",
    "print(\"\\n--- Confusion Matrix for Low-Confidence 200 ---\")\n",
    "plot_confusion_matrix(test_df['class'].values, pred_lowconf)\n",
    "print(\"\\n--- Confusion Matrix for High-Confidence 200 ---\")\n",
    "plot_confusion_matrix(test_df['class'].values, pred_highconf)"
   ]
  },
  {
   "cell_type": "code",
   "execution_count": 245,
   "metadata": {},
   "outputs": [
    {
     "name": "stdout",
     "output_type": "stream",
     "text": [
      "Top 10 most predictive words for scam class (P(w|1) / P(w|0)) - Random 200:\n",
      "gt: 61.87\n",
      "lt: 61.30\n",
      "lor: 35.76\n",
      "ok: 29.23\n",
      "hope: 28.38\n",
      "da: 25.54\n",
      "let: 21.57\n",
      "wat: 21.00\n",
      "oh: 21.00\n",
      "come: 20.06\n",
      "\n",
      "Top 10 most predictive words for non-malicious class (P(w|0) / P(w|1)) - Random 200:\n",
      "prize: 100.42\n",
      "tone: 65.18\n",
      "claim: 46.39\n",
      "select: 44.04\n",
      "50: 37.00\n",
      "code: 35.23\n",
      "paytm: 33.47\n",
      "award: 30.83\n",
      "won: 29.95\n",
      "uk: 29.95\n",
      "\n",
      "Top 10 most predictive words for scam class (P(w|1) / P(w|0)) - Low-Confidence 200:\n",
      "gt: 60.54\n",
      "lt: 59.96\n",
      "lor: 31.98\n",
      "ok: 27.41\n",
      "da: 22.27\n",
      "let: 19.99\n",
      "wat: 19.42\n",
      "lol: 17.70\n",
      "sorry: 17.13\n",
      "something: 16.56\n",
      "\n",
      "Top 10 most predictive words for non-malicious class (P(w|0) / P(w|1)) - Low-Confidence 200:\n",
      "prize: 89.30\n",
      "tone: 57.78\n",
      "select: 42.02\n",
      "claim: 41.44\n",
      "paytm: 33.27\n",
      "code: 31.52\n",
      "award: 28.89\n",
      "18: 28.02\n",
      "won: 28.02\n",
      "uk: 26.27\n",
      "\n",
      "Top 10 most predictive words for scam class (P(w|1) / P(w|0)) - High-Confidence 200:\n",
      "gt: 85.32\n",
      "lt: 84.51\n",
      "lor: 45.51\n",
      "ok: 39.01\n",
      "hope: 39.01\n",
      "da: 31.69\n",
      "let: 28.44\n",
      "wat: 27.63\n",
      "oh: 26.00\n",
      "come: 25.19\n",
      "\n",
      "Top 10 most predictive words for non-malicious class (P(w|0) / P(w|1)) - High-Confidence 200:\n",
      "prize: 136.60\n",
      "tone: 72.61\n",
      "claim: 54.56\n",
      "select: 46.76\n",
      "guaranteed: 45.53\n",
      "code: 45.53\n",
      "50: 38.15\n",
      "18: 36.92\n",
      "paytm: 35.69\n",
      "uk: 33.23\n"
     ]
    }
   ],
   "source": [
    "predictive_random0, predictive_random1 = get_predictive_words(like_random, vocab_list)\n",
    "predictive_lowconf0, predictive_lowconf1 = get_predictive_words(like_lowconf, vocab_list)\n",
    "predictive_highconf0, predictive_highconf1 = get_predictive_words(like_highconf, vocab_list)\n",
    "\n",
    "# print(\"Top 10 most predictive words for scam class (P(w|1) / P(w|0)):\")\n",
    "# for word, ratio in top_predictive_1:\n",
    "#     print(f\"{word}: {ratio:.2f}\")\n",
    "\n",
    "# print(\"\\nTop 10 most predictive words for non-malicious class (P(w|0) / P(w|1)):\")\n",
    "# for word, ratio in top_predictive_0:\n",
    "#     print(f\"{word}: {ratio:.2f}\")\n",
    "\n",
    "print(\"Top 10 most predictive words for scam class (P(w|1) / P(w|0)) - Random 200:\")\n",
    "for word, ratio in predictive_random1:\n",
    "    print(f\"{word}: {ratio:.2f}\")\n",
    "\n",
    "print(\"\\nTop 10 most predictive words for non-malicious class (P(w|0) / P(w|1)) - Random 200:\")\n",
    "for word, ratio in predictive_random0:\n",
    "    print(f\"{word}: {ratio:.2f}\")\n",
    "\n",
    "print(\"\\nTop 10 most predictive words for scam class (P(w|1) / P(w|0)) - Low-Confidence 200:\")\n",
    "for word, ratio in predictive_lowconf1:\n",
    "    print(f\"{word}: {ratio:.2f}\")\n",
    "\n",
    "print(\"\\nTop 10 most predictive words for non-malicious class (P(w|0) / P(w|1)) - Low-Confidence 200:\")\n",
    "for word, ratio in predictive_lowconf0:\n",
    "    print(f\"{word}: {ratio:.2f}\")\n",
    "\n",
    "print(\"\\nTop 10 most predictive words for scam class (P(w|1) / P(w|0)) - High-Confidence 200:\")\n",
    "for word, ratio in predictive_highconf1:\n",
    "    print(f\"{word}: {ratio:.2f}\")\n",
    "\n",
    "print(\"\\nTop 10 most predictive words for non-malicious class (P(w|0) / P(w|1)) - High-Confidence 200:\")\n",
    "for word, ratio in predictive_highconf0:\n",
    "    print(f\"{word}: {ratio:.2f}\")"
   ]
  },
  {
   "cell_type": "code",
   "execution_count": null,
   "metadata": {
    "collapsed": true
   },
   "outputs": [],
   "source": []
  }
 ],
 "metadata": {
  "kernelspec": {
   "display_name": "Python (myenv)",
   "language": "python",
   "name": "myenv"
  },
  "language_info": {
   "codemirror_mode": {
    "name": "ipython",
    "version": 3
   },
   "file_extension": ".py",
   "mimetype": "text/x-python",
   "name": "python",
   "nbconvert_exporter": "python",
   "pygments_lexer": "ipython3",
   "version": "3.13.2"
  }
 },
 "nbformat": 4,
 "nbformat_minor": 4
}
