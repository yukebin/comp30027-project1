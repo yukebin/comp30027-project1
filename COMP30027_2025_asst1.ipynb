{
 "cells": [
  {
   "cell_type": "markdown",
   "metadata": {},
   "source": [
    "##### ### The University of Melbourne, School of Computing and Information Systems\n",
    "# COMP30027 Machine Learning, 2025 Semester 1\n",
    "\n",
    "## Assignment 1: Scam detection with Naive Bayes\n"
   ]
  },
  {
   "cell_type": "markdown",
   "metadata": {},
   "source": [
    "**Student ID(s):**     1462539\n"
   ]
  },
  {
   "cell_type": "markdown",
   "metadata": {},
   "source": [
    "## 0. Set-up"
   ]
  },
  {
   "cell_type": "markdown",
   "metadata": {},
   "source": [
    "Let us load data from `sms_supervised_train.csv`"
   ]
  },
  {
   "cell_type": "code",
   "execution_count": 72,
   "metadata": {},
   "outputs": [],
   "source": [
    "import numpy as np\n",
    "import pandas as pd\n",
    "import seaborn as sns\n",
    "import matplotlib.pyplot as plt\n",
    "from sklearn.feature_extraction.text import CountVectorizer\n",
    "from sklearn.metrics import accuracy_score, precision_score, recall_score, f1_score, confusion_matrix\n",
    "from typing import List, Set, Dict, Tuple\n",
    "\n",
    "# Load data\n",
    "labeled_train = pd.read_csv('data/sms_supervised_train.csv')"
   ]
  },
  {
   "cell_type": "markdown",
   "metadata": {},
   "source": [
    "Now that we loaded our data, let us delete rows where `textPreprocessed` is empty by calling `data.dropna`. These instances do not have any features we can learn from. We can then tokenise (split) the already preprossessd text for our next stage."
   ]
  },
  {
   "cell_type": "code",
   "execution_count": 73,
   "metadata": {},
   "outputs": [],
   "source": [
    "# Split text into tokens\n",
    "labeled_train.dropna(subset=['textPreprocessed'], inplace=True)\n",
    "labeled_train['tokens'] = labeled_train['textPreprocessed'].apply(lambda x: x.split())"
   ]
  },
  {
   "cell_type": "markdown",
   "metadata": {},
   "source": [
    "Let us define the **vocabulary**, which is a list of every word which occurs in the training data set"
   ]
  },
  {
   "cell_type": "code",
   "execution_count": 88,
   "metadata": {},
   "outputs": [],
   "source": [
    "vocabulary = set()\n",
    "for tokens in labeled_train['tokens']:\n",
    "    vocabulary.update(tokens)"
   ]
  },
  {
   "cell_type": "markdown",
   "metadata": {},
   "source": [
    "Define **count** matrix (Bag-of-Words feature matrix). Since the dataset is already preprocessed, I'm directly supplying `vocabulary=vocabulary` to `CountVectorizer` without calling `fit()`, to avoid any unintended token filtering."
   ]
  },
  {
   "cell_type": "code",
   "execution_count": 90,
   "metadata": {},
   "outputs": [],
   "source": [
    "vectorizer: CountVectorizer = CountVectorizer(vocabulary=vocabulary)\n",
    "X: np.ndarray = vectorizer.transform(labeled_train['textPreprocessed'])\n",
    "y: np.ndarray = labeled_train['class'].values"
   ]
  },
  {
   "cell_type": "markdown",
   "metadata": {},
   "source": [
    "## 1. Supervised model training\n"
   ]
  },
  {
   "cell_type": "markdown",
   "metadata": {},
   "source": [
    "We now computer the prior probability of each class $P(C)$. It returns a dictionary of class label with prior probabilities $\\{C: P(C)\\}$."
   ]
  },
  {
   "cell_type": "code",
   "execution_count": 91,
   "metadata": {},
   "outputs": [],
   "source": [
    "def calc_prior(data: pd.DataFrame, label_col: str = 'class') -> Dict[int, float]:\n",
    "    class_counts = data[label_col].value_counts()\n",
    "    total = class_counts.sum()\n",
    "    return (class_counts / total).to_dict()"
   ]
  },
  {
   "cell_type": "markdown",
   "metadata": {},
   "source": [
    "The next set of probabilities we need to calculate are the conditional probabilities. We need to know the likelihood of each feature value given a specific label."
   ]
  },
  {
   "cell_type": "markdown",
   "metadata": {},
   "source": [
    "message1: [1, 0, 2]   → \"hello now now\"\n",
    "\n",
    "message2: [0, 1, 1]   → \"win now\"\n",
    "\n",
    "[1 + 0, 0 + 1, 2 + 1] = [1, 1, 3]\n",
    "\n",
    "then we can computer [1 + 0, 0 + 1, 2 + 1] = [1, 1, 3]\n",
    "\n",
    "where each `word_counts[i]` is exactly $count_{c,i}$ where\n",
    "\n",
    "$$\n",
    "p_{c,i} = \\frac{count_{c,i} + \\alpha}{total_c + V \\alpha}\n",
    "$$\n",
    "\n",
    "\n"
   ]
  },
  {
   "cell_type": "code",
   "execution_count": 92,
   "metadata": {},
   "outputs": [],
   "source": [
    "def calc_likelihood(X: np.ndarray, y: np.ndarray, alpha: float = 1.0) -> Dict[int, np.ndarray]:\n",
    "    classes = np.unique(y)\n",
    "    vocab_size = X.shape[1]\n",
    "    likelihoods = {}\n",
    "\n",
    "    for c in classes:\n",
    "        X_c = X[np.where(y == c)[0]]\n",
    "        word_counts = X_c.sum(axis=0)\n",
    "        word_counts = np.asarray(word_counts).flatten()\n",
    "        total_count = word_counts.sum()\n",
    "        likelihoods[c] = (word_counts + alpha) / (total_count + alpha * vocab_size)\n",
    "\n",
    "    return likelihoods"
   ]
  },
  {
   "cell_type": "markdown",
   "metadata": {},
   "source": [
    "We are ready to train our dataset, but before that, let us create function to out most probable words in each class and also \n",
    "\n",
    "$$\n",
    "\\text{Predictiveness} = \\frac{P(w \\mid \\text{scam})}{P(w \\mid \\text{non-malicious})}\n",
    "$$\n",
    "\n",
    "The ratio tells us how \"words that happen a lot more in this group than the other one\""
   ]
  },
  {
   "cell_type": "code",
   "execution_count": 93,
   "metadata": {},
   "outputs": [],
   "source": [
    "def get_top_words(likelihood, vocab, class_label, top_n=10):\n",
    "    indices = np.argsort(-likelihood[class_label])[:top_n]\n",
    "    return [(vocab[i], likelihood[class_label][i]) for i in indices]"
   ]
  },
  {
   "cell_type": "code",
   "execution_count": 94,
   "metadata": {},
   "outputs": [],
   "source": [
    "def get_predictive_words(likelihoods, vocab, top_n=10):\n",
    "    ratio_1_over_0 = likelihoods[1] / likelihoods[0]\n",
    "    ratio_0_over_1 = likelihoods[0] / likelihoods[1]\n",
    "    top_1_indices = np.argsort(-ratio_1_over_0)[:top_n]\n",
    "    top_0_indices = np.argsort(-ratio_0_over_1)[:top_n]\n",
    "    top_scams = [(vocab[i], ratio_1_over_0[i]) for i in top_1_indices]\n",
    "    top_nonmal = [(vocab[i], ratio_0_over_1[i]) for i in top_0_indices]\n",
    "    return top_scams, top_nonmal"
   ]
  },
  {
   "cell_type": "code",
   "execution_count": 95,
   "metadata": {},
   "outputs": [],
   "source": [
    "priors = calc_prior(labeled_train)\n",
    "likelihoods = calc_likelihood(X, y)\n",
    "\n",
    "# print(\"Prior probabilities:\")\n",
    "# for c, p in priors.items():\n",
    "#     print(f\"Class {c} ({'scam' if c==1 else 'non-malicious'}): {p:.4f}\")\n"
   ]
  },
  {
   "cell_type": "markdown",
   "metadata": {},
   "source": [
    "print calculation"
   ]
  },
  {
   "cell_type": "code",
   "execution_count": 96,
   "metadata": {},
   "outputs": [],
   "source": [
    "top_words_0 = get_top_words(likelihoods, list(vocabulary), 0)\n",
    "top_words_1 = get_top_words(likelihoods, list(vocabulary), 1)\n",
    "\n",
    "# print(\"Top 10 most probable words in non-malicious class:\")\n",
    "# for word, prob in top_words_0:\n",
    "#     print(f\"{word}: {prob:.4f}\")\n",
    "\n",
    "# print(\"\\nTop 10 most probable words in scam class:\")\n",
    "# for word, prob in top_words_1:\n",
    "#     print(f\"{word}: {prob:.4f}\")"
   ]
  },
  {
   "cell_type": "code",
   "execution_count": 97,
   "metadata": {},
   "outputs": [],
   "source": [
    "top_predictive_1, top_predictive_0 = get_predictive_words(likelihoods, list(vocabulary))\n",
    "\n",
    "# print(\"Top 10 most predictive words for scam class (P(w|1) / P(w|0)):\")\n",
    "# for word, ratio in top_predictive_1:\n",
    "#     print(f\"{word}: {ratio:.2f}\")\n",
    "\n",
    "# print(\"\\nTop 10 most predictive words for non-malicious class (P(w|0) / P(w|1)):\")\n",
    "# for word, ratio in top_predictive_0:\n",
    "#     print(f\"{word}: {ratio:.2f}\")"
   ]
  },
  {
   "cell_type": "markdown",
   "metadata": {},
   "source": [
    "## 2. Supervised model evaluation"
   ]
  },
  {
   "cell_type": "markdown",
   "metadata": {},
   "source": [
    "$$P(c \\mid count) \\propto P(c)P(count \\mid c)$$\n",
    "$$\\log{P(c \\mid doc)} \\propto \\log{P(c)} + \\sum_{i}{x_i \\cdot \\log{P(w_i \\mid c)}}$$"
   ]
  },
  {
   "cell_type": "code",
   "execution_count": 98,
   "metadata": {
    "collapsed": true
   },
   "outputs": [],
   "source": [
    "def calc_posterior(counts: np.ndarray, priors: Dict[int, float], likelihoods: Dict[int, np.ndarray]) -> Dict[int, float]:\n",
    "    \"\"\"Calculate log-posterior score for each class\"\"\"\n",
    "    scores = {}\n",
    "    for c in priors:\n",
    "        log_prior = np.log(priors[c])\n",
    "        log_likelihood = np.log(likelihoods[c])\n",
    "        scores[c] = log_prior + np.dot(counts, log_likelihood)\n",
    "    return scores"
   ]
  },
  {
   "cell_type": "code",
   "execution_count": 100,
   "metadata": {},
   "outputs": [],
   "source": [
    "def predict_batch(texts: List[str], priors: Dict[int, float], likelihoods: Dict[int, np.ndarray], \n",
    "                  vectorizer: CountVectorizer) -> Tuple[np.ndarray, np.ndarray]:\n",
    "    predictions: List[int] = []\n",
    "    confidence_ratios: List[float] = []\n",
    "\n",
    "    for text in texts:\n",
    "        # Transform the text into a count vector\n",
    "        counts: np.ndarray = vectorizer.transform([text]).toarray().flatten()\n",
    "        # Calculate posterior scores for each class\n",
    "        scores: Dict[int, float] = calc_posterior(counts, priors, likelihoods)\n",
    "        # Append the predicted class (class with the highest posterior score)\n",
    "        predictions.append(max(scores, key=scores.get))\n",
    "        # Append the confidence ratio (P(class 1) / P(class 0))\n",
    "        confidence_ratios.append(np.exp(scores[1] - scores[0]))\n",
    "\n",
    "    return np.array(predictions), np.array(confidence_ratios)"
   ]
  },
  {
   "cell_type": "markdown",
   "metadata": {},
   "source": [
    "now, we calculate"
   ]
  },
  {
   "cell_type": "code",
   "execution_count": 101,
   "metadata": {},
   "outputs": [],
   "source": [
    "test_df = pd.read_csv('data/sms_test.csv')\n",
    "test_df.dropna(subset=['textPreprocessed'], inplace=True)\n",
    "\n",
    "test_texts = test_df['textPreprocessed'].tolist()\n",
    "true_labels = test_df['class'].values\n",
    "predicted_labels, confidence_ratios = predict_batch(test_texts, priors, likelihoods, vectorizer)"
   ]
  },
  {
   "cell_type": "markdown",
   "metadata": {},
   "source": [
    "Ill just use `sklearn` library to evaluate my NB"
   ]
  },
  {
   "cell_type": "code",
   "execution_count": 102,
   "metadata": {},
   "outputs": [],
   "source": [
    "acc = accuracy_score(true_labels, predicted_labels)\n",
    "prec = precision_score(true_labels, predicted_labels)\n",
    "rec = recall_score(true_labels, predicted_labels)\n",
    "f1 = f1_score(true_labels, predicted_labels)\n",
    "conf_matrix = confusion_matrix(true_labels, predicted_labels)"
   ]
  },
  {
   "cell_type": "code",
   "execution_count": 103,
   "metadata": {},
   "outputs": [],
   "source": [
    "# print(f\"Accuracy:  {acc:.4f}\")\n",
    "# print(f\"Precision: {prec:.4f}\")\n",
    "# print(f\"Recall:    {rec:.4f}\")\n",
    "# print(f\"F1 Score:  {f1:.4f}\")\n",
    "# print(\"\\nConfusion Matrix:\")\n",
    "\n",
    "# # Plot it\n",
    "# plt.figure(figsize=(6, 5))\n",
    "# sns.heatmap(conf_matrix, annot=True, fmt='d', cmap='Blues',\n",
    "#             xticklabels=[\"Non-Malicious\", \"Scam\"],\n",
    "#             yticklabels=[\"Non-Malicious\", \"Scam\"])\n",
    "# plt.xlabel(\"Predicted Label\")\n",
    "# plt.ylabel(\"True Label\")\n",
    "# plt.tight_layout()\n",
    "# plt.show()"
   ]
  },
  {
   "cell_type": "code",
   "execution_count": 105,
   "metadata": {},
   "outputs": [
    {
     "name": "stdout",
     "output_type": "stream",
     "text": [
      "OOV Messages (some tokens missing): 142\n",
      "Skipped Messages (no tokens in vocab): 0\n"
     ]
    }
   ],
   "source": [
    "oov_messages = 0\n",
    "skipped_messages = 0\n",
    "\n",
    "for text in test_texts:\n",
    "    tokens = text.split()\n",
    "    tokens_in_vocab = [token for token in tokens if token in vocabulary]\n",
    "    if not tokens_in_vocab:\n",
    "        skipped_messages += 1\n",
    "    elif len(tokens) != len(tokens_in_vocab):\n",
    "        oov_messages += 1\n",
    "\n",
    "print(f\"OOV Messages (some tokens missing): {oov_messages}\")\n",
    "print(f\"Skipped Messages (no tokens in vocab): {skipped_messages}\")"
   ]
  },
  {
   "cell_type": "code",
   "execution_count": 107,
   "metadata": {},
   "outputs": [],
   "source": [
    "test_df['prediction'] = predicted_labels\n",
    "test_df['confidence_ratio'] = confidence_ratios\n",
    "\n",
    "# print(\"--- High Confidence Scam Predictions ---\")\n",
    "# high_conf_scam = test_df[test_df['prediction'] == 1].sort_values(by='confidence_ratio', ascending=False).head(3)\n",
    "# print(high_conf_scam[['textPreprocessed', 'confidence_ratio']])\n",
    "\n",
    "# print(\"\\n--- High Confidence Non-Malicious Predictions ---\")\n",
    "# high_conf_nonmal = test_df[test_df['prediction'] == 0].sort_values(by='confidence_ratio', ascending=True).head(5)\n",
    "# print(high_conf_nonmal[['textPreprocessed', 'confidence_ratio']])\n",
    "\n",
    "# print(\"\\n--- Boundary Cases (Confidence Ratio ≈ 1) ---\")\n",
    "# boundary = test_df[(test_df['confidence_ratio'] > 0.9) & (test_df['confidence_ratio'] < 1.1)].head(3)\n",
    "# print(boundary[['textPreprocessed', 'confidence_ratio']])"
   ]
  },
  {
   "cell_type": "markdown",
   "metadata": {},
   "source": [
    "## 3. Extending the model with semi-supervised training"
   ]
  },
  {
   "cell_type": "code",
   "execution_count": null,
   "metadata": {},
   "outputs": [],
   "source": []
  },
  {
   "cell_type": "markdown",
   "metadata": {},
   "source": [
    "## 4. Supervised model evaluation"
   ]
  },
  {
   "cell_type": "code",
   "execution_count": null,
   "metadata": {
    "collapsed": true
   },
   "outputs": [],
   "source": []
  }
 ],
 "metadata": {
  "kernelspec": {
   "display_name": "Python (myenv)",
   "language": "python",
   "name": "myenv"
  },
  "language_info": {
   "codemirror_mode": {
    "name": "ipython",
    "version": 3
   },
   "file_extension": ".py",
   "mimetype": "text/x-python",
   "name": "python",
   "nbconvert_exporter": "python",
   "pygments_lexer": "ipython3",
   "version": "3.13.2"
  }
 },
 "nbformat": 4,
 "nbformat_minor": 4
}
