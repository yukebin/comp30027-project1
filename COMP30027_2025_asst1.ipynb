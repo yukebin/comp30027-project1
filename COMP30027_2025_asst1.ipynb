{
 "cells": [
  {
   "cell_type": "markdown",
   "metadata": {},
   "source": [
    "##### ### The University of Melbourne, School of Computing and Information Systems\n",
    "# COMP30027 Machine Learning, 2025 Semester 1\n",
    "\n",
    "## Assignment 1: Scam detection with Naive Bayes\n"
   ]
  },
  {
   "cell_type": "markdown",
   "metadata": {},
   "source": [
    "**Student ID(s):**     1462539\n"
   ]
  },
  {
   "cell_type": "markdown",
   "metadata": {},
   "source": [
    "## 0. Set-up"
   ]
  },
  {
   "cell_type": "markdown",
   "metadata": {},
   "source": [
    "First, we import all the necessary libraries and load the labeled training data from `sms_supervised_train.csv`."
   ]
  },
  {
   "cell_type": "code",
   "execution_count": 167,
   "metadata": {},
   "outputs": [],
   "source": [
    "import numpy as np\n",
    "import pandas as pd\n",
    "import seaborn as sns\n",
    "import matplotlib.pyplot as plt\n",
    "from sklearn.feature_extraction.text import CountVectorizer\n",
    "from sklearn.metrics import accuracy_score, precision_score, recall_score, f1_score, confusion_matrix\n",
    "from typing import List, Set, Dict, Tuple\n",
    "\n",
    "labelled_train = pd.read_csv('data/sms_supervised_train.csv')"
   ]
  },
  {
   "cell_type": "markdown",
   "metadata": {},
   "source": [
    "Now that we have loaded our training dataset, let us delete rows where `textPreprocessed` is empty by calling `data.dropna`. These instances do not have any meaningful features we can learn from. After cleaning, we can then tokenise (split) the already preprossessd text for our next stage."
   ]
  },
  {
   "cell_type": "code",
   "execution_count": 168,
   "metadata": {},
   "outputs": [],
   "source": [
    "labelled_train.dropna(subset=['textPreprocessed'], inplace=True)\n",
    "labelled_train['tokens'] = labelled_train['textPreprocessed'].apply(lambda x: x.split())"
   ]
  },
  {
   "cell_type": "markdown",
   "metadata": {},
   "source": [
    "Let us define the **vocabulary**, which is a set of every word which occurs in the training data set"
   ]
  },
  {
   "cell_type": "code",
   "execution_count": 169,
   "metadata": {},
   "outputs": [],
   "source": [
    "vocabulary = set()\n",
    "for tokens in labelled_train['tokens']:\n",
    "    vocabulary.update(tokens)\n",
    "vocab_list = list(vocabulary)"
   ]
  },
  {
   "cell_type": "markdown",
   "metadata": {},
   "source": [
    "Define **count** matrix (Bag-of-Words feature matrix). Since the dataset is already preprocessed, I am directly supplying `vocabulary` to `CountVectorizer` without calling `fit()`, to avoid any unintended token filtering. Note that we are going to follow the convention where $X$ represents the input features and $y$ represents the target labels; this notation is used consistently throughout the notebook."
   ]
  },
  {
   "cell_type": "code",
   "execution_count": 170,
   "metadata": {},
   "outputs": [],
   "source": [
    "vectorizer: CountVectorizer = CountVectorizer(vocabulary=vocab_list)\n",
    "X: np.ndarray = vectorizer.transform(labelled_train['textPreprocessed'])\n",
    "y: np.ndarray = labelled_train['class'].values"
   ]
  },
  {
   "cell_type": "markdown",
   "metadata": {},
   "source": [
    "## 1. Supervised model training\n"
   ]
  },
  {
   "cell_type": "markdown",
   "metadata": {},
   "source": [
    "### 1.1 Prior Probabilities"
   ]
  },
  {
   "cell_type": "markdown",
   "metadata": {},
   "source": [
    "We are now ready to compute the prior probability of each class, $P(C)$. The result is returned as a dictionary mapping each class label to its corresponding prior probability: ${C : P(C)}$."
   ]
  },
  {
   "cell_type": "code",
   "execution_count": 171,
   "metadata": {},
   "outputs": [],
   "source": [
    "def calc_prior(data: pd.DataFrame, label_col: str = 'class') -> Dict[int, float]:\n",
    "    class_counts = data[label_col].value_counts()\n",
    "    total = class_counts.sum()\n",
    "    return (class_counts / total).to_dict()\n",
    "\n",
    "priors = calc_prior(labelled_train)"
   ]
  },
  {
   "cell_type": "markdown",
   "metadata": {},
   "source": [
    "### 1.2 Most Probable Words"
   ]
  },
  {
   "cell_type": "markdown",
   "metadata": {},
   "source": [
    "The next set of probabilities we need to calculate are the conditional probabilities, which represent the likelihood of each feature value given a specific class label. Recall that our \"count\" matrix encodes how many times each word appears in a message. For example:\n",
    "\n",
    "```\n",
    "message1: [1, 0, 2] → \"call now now\"\n",
    "message2: [0, 1, 1] → \"win now\"\n",
    "```\n",
    "\n",
    "To compute the **total word counts per class**, we sum the corresponding vectors:\n",
    "\n",
    "```\n",
    "[1 + 0, 0 + 1, 2 + 1] = [1, 1, 3]\n",
    "```\n",
    "\n",
    "Each entry in this resulting vector, `word_counts[i]`, corresponds to exactly $\\text{count}_{c,i}$. where\n",
    "\n",
    "$$\n",
    "P(w_i \\mid c) = \\frac{\\text{count}_{c,i} + \\alpha}{\\text{total}_c + V \\alpha}.\n",
    "$$"
   ]
  },
  {
   "cell_type": "code",
   "execution_count": 178,
   "metadata": {},
   "outputs": [],
   "source": [
    "def calc_likelihood(X: np.ndarray, y: np.ndarray, alpha: float = 1.0) -> Dict[int, np.ndarray]:\n",
    "    classes = np.unique(y)\n",
    "    vocab_size = X.shape[1]\n",
    "    likelihoods = {}\n",
    "\n",
    "    for c in classes:\n",
    "        X_c = X[y == c]                                 # rows for class c (y == c) is a mask\n",
    "        word_counts = X_c.sum(axis=0)                   # sum over rows → word frequency vector\n",
    "        word_counts = np.asarray(word_counts).flatten() # convert to 1D array\n",
    "        total_count = word_counts.sum()\n",
    "        likelihoods[c] = (word_counts + alpha) / (total_count + alpha * vocab_size)\n",
    "\n",
    "    return likelihoods\n",
    "\n",
    "likelihoods = calc_likelihood(X, y)"
   ]
  },
  {
   "cell_type": "markdown",
   "metadata": {},
   "source": [
    "Let us now identify the most probable words in each class. Class $0$ represents non-malicious messages, while Class $1$ corresponds to scam messages."
   ]
  },
  {
   "cell_type": "code",
   "execution_count": 182,
   "metadata": {},
   "outputs": [],
   "source": [
    "def get_top_words(likelihood, vocab, class_label, top_n=10):\n",
    "    indices = np.argsort(-likelihood[class_label])[:top_n] # - for descending order\n",
    "    return [(vocab[i], likelihood[class_label][i]) for i in indices]\n",
    "\n",
    "top_words_0 = get_top_words(likelihoods, vocab_list, 0)\n",
    "top_words_1 = get_top_words(likelihoods, vocab_list, 1)\n",
    "\n",
    "# print(\"Top 10 most probable words in non-malicious class:\")\n",
    "# for word, prob in top_words_0:\n",
    "#     print(f\"{word}: {prob:.4f}\")\n",
    "\n",
    "# print(\"\\nTop 10 most probable words in scam class:\")\n",
    "# for word, prob in top_words_1:\n",
    "#     print(f\"{word}: {prob:.4f}\")"
   ]
  },
  {
   "cell_type": "markdown",
   "metadata": {},
   "source": [
    "### 1.3 Most Predictive Words"
   ]
  },
  {
   "cell_type": "markdown",
   "metadata": {},
   "source": [
    "Let us now get words that are most strongly predictive of each class. We can do this by computing the likelihood ratio,\n",
    "\n",
    "$$\n",
    "\\text{Predictiveness} = \\frac{P(w \\mid \\text{scam})}{P(w \\mid \\text{non-malicious})}.\n",
    "$$\n",
    "\n",
    "The ratio tells us **which words appear much more often in one class than the other**."
   ]
  },
  {
   "cell_type": "code",
   "execution_count": null,
   "metadata": {},
   "outputs": [
    {
     "name": "stdout",
     "output_type": "stream",
     "text": [
      "Top 10 most predictive words for scam class (P(w|1) / P(w|0)):\n",
      "prize: 88.80\n",
      "tone: 57.46\n",
      "select: 41.79\n",
      "claim: 41.21\n",
      "50: 34.82\n",
      "paytm: 33.08\n",
      "code: 31.34\n",
      "award: 28.73\n",
      "won: 27.86\n",
      "18: 26.12\n",
      "\n",
      "Top 10 most predictive words for non-malicious class (P(w|0) / P(w|1)):\n",
      "gt: 60.30\n",
      "lt: 59.73\n",
      "lor: 32.16\n",
      "hope: 27.57\n",
      "ok: 27.57\n",
      "da: 22.40\n",
      "let: 20.10\n",
      "wat: 19.53\n",
      "oh: 18.38\n",
      "lol: 17.80\n"
     ]
    }
   ],
   "source": [
    "def get_predictive_words(likelihoods, vocab, top_n=10):\n",
    "    ratio_1_over_0 = likelihoods[1] / likelihoods[0]\n",
    "    ratio_0_over_1 = likelihoods[0] / likelihoods[1]\n",
    "    top_1_indices = np.argsort(-ratio_1_over_0)[:top_n]\n",
    "    top_0_indices = np.argsort(-ratio_0_over_1)[:top_n]\n",
    "    top_scams = [(vocab[i], ratio_1_over_0[i]) for i in top_1_indices]\n",
    "    top_nonmal = [(vocab[i], ratio_0_over_1[i]) for i in top_0_indices]\n",
    "    return top_scams, top_nonmal\n",
    "\n",
    "top_predictive_1, top_predictive_0 = get_predictive_words(likelihoods, vocab_list)\n",
    "\n",
    "# print(\"Top 10 most predictive words for scam class (P(w|1) / P(w|0)):\")\n",
    "# for word, ratio in top_predictive_1:\n",
    "#     print(f\"{word}: {ratio:.2f}\")\n",
    "\n",
    "# print(\"\\nTop 10 most predictive words for non-malicious class (P(w|0) / P(w|1)):\")\n",
    "# for word, ratio in top_predictive_0:\n",
    "#     print(f\"{word}: {ratio:.2f}\")"
   ]
  },
  {
   "cell_type": "markdown",
   "metadata": {},
   "source": [
    "## 2. Supervised model evaluation"
   ]
  },
  {
   "cell_type": "markdown",
   "metadata": {},
   "source": [
    "$$P(c \\mid count) \\propto P(c)P(count \\mid c)$$\n",
    "$$\\log{P(c \\mid doc)} \\propto \\log{P(c)} + \\sum_{i}{x_i \\cdot \\log{P(w_i \\mid c)}}$$"
   ]
  },
  {
   "cell_type": "code",
   "execution_count": 119,
   "metadata": {
    "collapsed": true
   },
   "outputs": [],
   "source": [
    "def calc_posterior(counts: np.ndarray, priors: Dict[int, float], likelihoods: Dict[int, np.ndarray]) -> Dict[int, float]:\n",
    "    \"\"\"Calculate log-posterior score for each class\"\"\"\n",
    "    scores = {}\n",
    "    for c in priors:\n",
    "        log_prior = np.log(priors[c])\n",
    "        log_likelihood = np.log(likelihoods[c])\n",
    "        scores[c] = log_prior + np.dot(counts, log_likelihood)\n",
    "    return scores"
   ]
  },
  {
   "cell_type": "code",
   "execution_count": 120,
   "metadata": {},
   "outputs": [],
   "source": [
    "def predict_batch(texts: List[str], priors: Dict[int, float], likelihoods: Dict[int, np.ndarray], \n",
    "                  vectorizer: CountVectorizer) -> Tuple[np.ndarray, np.ndarray]:\n",
    "    predictions: List[int] = []\n",
    "    confidence_ratios: List[float] = []\n",
    "\n",
    "    for text in texts:\n",
    "        # Transform the text into a count vector\n",
    "        counts: np.ndarray = vectorizer.transform([text]).toarray().flatten()\n",
    "        # Calculate posterior scores for each class\n",
    "        scores: Dict[int, float] = calc_posterior(counts, priors, likelihoods)\n",
    "        # Append the predicted class (class with the highest posterior score)\n",
    "        predictions.append(max(scores, key=scores.get))\n",
    "        # Append the confidence ratio (P(class 1) / P(class 0))\n",
    "        confidence_ratios.append(np.exp(scores[1] - scores[0]))\n",
    "\n",
    "    return np.array(predictions), np.array(confidence_ratios)"
   ]
  },
  {
   "cell_type": "markdown",
   "metadata": {},
   "source": [
    "now, we calculate"
   ]
  },
  {
   "cell_type": "code",
   "execution_count": null,
   "metadata": {},
   "outputs": [
    {
     "name": "stdout",
     "output_type": "stream",
     "text": [
      "{'Accuracy': 0.97, 'Precision': 0.9381443298969072, 'Recall': 0.91, 'F1 Score': 0.9238578680203046, 'Training Size': 1995}\n"
     ]
    }
   ],
   "source": [
    "test_df = pd.read_csv('data/sms_test.csv')\n",
    "test_df.dropna(subset=['textPreprocessed'], inplace=True)\n",
    "\n",
    "test_texts = test_df['textPreprocessed'].tolist()\n",
    "true_labels = test_df['class'].values\n",
    "predicted_labels, confidence_ratios = predict_batch(test_texts, priors, likelihoods, vectorizer)"
   ]
  },
  {
   "cell_type": "markdown",
   "metadata": {},
   "source": [
    "### 2.1 Model Performance Evaluation"
   ]
  },
  {
   "cell_type": "markdown",
   "metadata": {},
   "source": [
    "Ill just use `sklearn` library to evaluate my NB"
   ]
  },
  {
   "cell_type": "code",
   "execution_count": 134,
   "metadata": {},
   "outputs": [],
   "source": [
    "def eval_model(y_true: np.ndarray, y_pred: np.ndarray) -> Dict[str, float]:\n",
    "    return {\n",
    "        \"Accuracy\": accuracy_score(y_true, y_pred),\n",
    "        \"Precision\": precision_score(y_true, y_pred),\n",
    "        \"Recall\": recall_score(y_true, y_pred),\n",
    "        \"F1 Score\": f1_score(y_true, y_pred)\n",
    "    }\n",
    "\n",
    "def print_eval(eval: Dict[str, float]) -> None:\n",
    "    for metric, value in eval.items():\n",
    "        print(f\"{metric}: {value:.4f}\")\n",
    "\n",
    "def plot_confusion_matrix(y_true: np.ndarray, y_pred: np.ndarray) -> None:\n",
    "    plt.figure(figsize=(5, 4.5))\n",
    "    cm = confusion_matrix(y_true, y_pred)\n",
    "    sns.heatmap(cm, annot=True, fmt='d', cmap='Blues', \n",
    "                xticklabels=['Non-malicious', 'Scam'], \n",
    "                yticklabels=['Non-malicious', 'Scam'])\n",
    "    plt.xlabel('Predicted Label')\n",
    "    plt.ylabel('True Label')\n",
    "    plt.tight_layout()\n",
    "    plt.show()"
   ]
  },
  {
   "cell_type": "code",
   "execution_count": 135,
   "metadata": {},
   "outputs": [
    {
     "name": "stdout",
     "output_type": "stream",
     "text": [
      "Accuracy: 0.9700\n",
      "Precision: 0.9381\n",
      "Recall: 0.9100\n",
      "F1 Score: 0.9239\n"
     ]
    },
    {
     "data": {
      "image/png": "[encoded data removed]",
      "text/plain": [
       "<Figure size 500x450 with 2 Axes>"
      ]
     },
     "metadata": {},
     "output_type": "display_data"
    }
   ],
   "source": [
    "eval_results = eval_model(true_labels, predicted_labels)\n",
    "print_eval(eval_results)\n",
    "plot_confusion_matrix(true_labels, predicted_labels)"
   ]
  },
  {
   "cell_type": "markdown",
   "metadata": {},
   "source": [
    "### 2.2 Out-of-Vocabulary (OOV) Words"
   ]
  },
  {
   "cell_type": "code",
   "execution_count": 105,
   "metadata": {},
   "outputs": [
    {
     "name": "stdout",
     "output_type": "stream",
     "text": [
      "OOV Messages (some tokens missing): 142\n",
      "Skipped Messages (no tokens in vocab): 0\n"
     ]
    }
   ],
   "source": [
    "oov_messages = 0\n",
    "skipped_messages = 0\n",
    "\n",
    "for text in test_texts:\n",
    "    tokens = text.split()\n",
    "    tokens_in_vocab = [token for token in tokens if token in vocabulary]\n",
    "    if not tokens_in_vocab:\n",
    "        skipped_messages += 1\n",
    "    elif len(tokens) != len(tokens_in_vocab):\n",
    "        oov_messages += 1\n",
    "\n",
    "print(f\"OOV Messages (some tokens missing): {oov_messages}\")\n",
    "print(f\"Skipped Messages (no tokens in vocab): {skipped_messages}\")"
   ]
  },
  {
   "cell_type": "markdown",
   "metadata": {},
   "source": [
    "### 2.3 Examples of High and Low Confidence"
   ]
  },
  {
   "cell_type": "code",
   "execution_count": 107,
   "metadata": {},
   "outputs": [],
   "source": [
    "test_df['prediction'] = predicted_labels\n",
    "test_df['confidence_ratio'] = confidence_ratios\n",
    "\n",
    "# print(\"--- High Confidence Scam Predictions ---\")\n",
    "# high_conf_scam = test_df[test_df['prediction'] == 1].sort_values(by='confidence_ratio', ascending=False).head(3)\n",
    "# print(high_conf_scam[['textPreprocessed', 'confidence_ratio']])\n",
    "\n",
    "# print(\"\\n--- High Confidence Non-Malicious Predictions ---\")\n",
    "# high_conf_nonmal = test_df[test_df['prediction'] == 0].sort_values(by='confidence_ratio', ascending=True).head(5)\n",
    "# print(high_conf_nonmal[['textPreprocessed', 'confidence_ratio']])\n",
    "\n",
    "# print(\"\\n--- Boundary Cases (Confidence Ratio ≈ 1) ---\")\n",
    "# boundary = test_df[(test_df['confidence_ratio'] > 0.9) & (test_df['confidence_ratio'] < 1.1)].head(3)\n",
    "# print(boundary[['textPreprocessed', 'confidence_ratio']])"
   ]
  },
  {
   "cell_type": "markdown",
   "metadata": {},
   "source": [
    "## 3. Extending the model with semi-supervised training"
   ]
  },
  {
   "cell_type": "code",
   "execution_count": null,
   "metadata": {},
   "outputs": [],
   "source": []
  },
  {
   "cell_type": "markdown",
   "metadata": {},
   "source": [
    "## 4. Supervised model evaluation"
   ]
  },
  {
   "cell_type": "code",
   "execution_count": null,
   "metadata": {
    "collapsed": true
   },
   "outputs": [],
   "source": []
  }
 ],
 "metadata": {
  "kernelspec": {
   "display_name": "Python (myenv)",
   "language": "python",
   "name": "myenv"
  },
  "language_info": {
   "codemirror_mode": {
    "name": "ipython",
    "version": 3
   },
   "file_extension": ".py",
   "mimetype": "text/x-python",
   "name": "python",
   "nbconvert_exporter": "python",
   "pygments_lexer": "ipython3",
   "version": "3.13.2"
  }
 },
 "nbformat": 4,
 "nbformat_minor": 4
}
